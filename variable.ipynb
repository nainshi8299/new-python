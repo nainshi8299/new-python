{
 "cells": [
  {
   "cell_type": "markdown",
   "metadata": {},
   "source": [
    "VARIABLE-\n",
    "a variable ia a name given to a memory location in a program.\n",
    "as like -name ,age is variable."
   ]
  },
  {
   "cell_type": "code",
   "execution_count": 3,
   "metadata": {},
   "outputs": [],
   "source": [
    "name= \"nainshi\"\n",
    "age= 20\n",
    "price=50.99"
   ]
  },
  {
   "cell_type": "markdown",
   "metadata": {},
   "source": [
    "Rules for identifiers\n",
    "1. identifier can be combination of upper case and lower case letters,or an underscore(_).so my variable ,variable_1,variable_for_print all are vaild python identifiers.\n",
    "2. An identifiers can not start with digit.so while variable1 is vaild,1variable is not vaild.\n",
    "3. we cannot use special symbols like!,#,@,%,$ etc in our identifier.\n",
    "4. identifier can be of any length.   "
   ]
  },
  {
   "cell_type": "markdown",
   "metadata": {},
   "source": [
    "DATA TYPES\n",
    ". INTEGERS\n",
    ". STRING\n",
    ". FLOAT\n",
    ".BOOLEAN(True,False)\n",
    ".NONE"
   ]
  },
  {
   "cell_type": "code",
   "execution_count": 4,
   "metadata": {},
   "outputs": [],
   "source": [
    "age=23\n",
    "old=False\n",
    "a= None\n"
   ]
  },
  {
   "cell_type": "code",
   "execution_count": null,
   "metadata": {},
   "outputs": [],
   "source": []
  },
  {
   "cell_type": "markdown",
   "metadata": {},
   "source": [
    "COMMENTES IN PYTHON\n",
    "#single line comments\n",
    "\"\"\"\n",
    "multi line \n",
    "comments\n",
    "\"\"\""
   ]
  }
 ],
 "metadata": {
  "kernelspec": {
   "display_name": "base",
   "language": "python",
   "name": "python3"
  },
  "language_info": {
   "codemirror_mode": {
    "name": "ipython",
    "version": 3
   },
   "file_extension": ".py",
   "mimetype": "text/x-python",
   "name": "python",
   "nbconvert_exporter": "python",
   "pygments_lexer": "ipython3",
   "version": "3.11.4"
  }
 },
 "nbformat": 4,
 "nbformat_minor": 2
}
